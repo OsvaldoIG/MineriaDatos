{
 "cells": [
  {
   "cell_type": "markdown",
   "metadata": {
    "id": "Zo6Nr9ApAOMF"
   },
   "source": [
    "# **Tarea 2: Identificar una fuente de datos e importarla desde una plataforma Git (Github, Gitlab) y realizar el proceso EDA.**\n",
    "\n",
    "Nombre: Osvaldo Ibañez Guzman\n",
    "\n",
    "No. Cuenta: 316058672\n",
    "\n",
    "Email: osva552920@gmail.com"
   ]
  },
  {
   "cell_type": "markdown",
   "metadata": {
    "id": "C0PBG-6lZWv_"
   },
   "source": [
    "### **Contexto**\n",
    "\n",
    "Datos recopilados de la encuesta mundial sobre la salud de estudiantes adolescentes basado en los datos de 26 países, que proporciona un valor de porcentaje por cada uno de los valores. \n",
    "\n",
    "**Objetivo:** Hacer un análisis exploratorio de datos sobre las principales razones por las que estudiantes de 13 a 17 años se suicidan."
   ]
  },
  {
   "cell_type": "markdown",
   "metadata": {
    "id": "uoY99zJ29vPO"
   },
   "source": [
    "### **Importar las bibliotecas y los datos**"
   ]
  },
  {
   "cell_type": "markdown",
   "metadata": {
    "id": "qVrYEOOxFGJs"
   },
   "source": [
    "**Variables**\n",
    "\n",
    "*\tCountry – País de procedencia\n",
    "*\tYear – Año que se realizado la encuesta\n",
    "*\tAge Group – Grupo de edades\n",
    "*\tSex – Genero de personas que realizaron la encuesta\n",
    "*\tCurrently_Drink_Alcohol – Bebia Alcohol regularmente\n",
    "*\tReally_Get_Drunk – Realmente se emborrachaba\n",
    "*\tOverwieght - Sobrepeso\n",
    "*\tUse_Marijuana – Consumía Mariguana\n",
    "*\tHave_Understanding_Parents – Tenia padres comprensivos\n",
    "*\tMissed_classes_without_permssion – Faltaba a clases sin permiso\n",
    "*\tHad_sexual_relation – Tenía relaciones sexuales\n",
    "*\tSmoke_cig_currently – Fumaba regularmente\n",
    "*\tHad_fights – Tenia Peleas\n",
    "*\tBullied – Sufría acoso\n",
    "*\tGot_Seriously_injured – Tenia heridas serias\n",
    "*\tNo_close_friends – No tenía amigos cercanos\n",
    "*\tAttempted_suicide – Intentos previos de suicidios"
   ]
  },
  {
   "cell_type": "code",
   "execution_count": 1,
   "metadata": {
    "id": "s4Uf32pf_8NH"
   },
   "outputs": [],
   "source": [
    "import pandas as pd                     # Para la manipulación y análisis de datos\n",
    "import numpy as np                      # Para crear vectores y matrices n dimensionales\n",
    "import matplotlib.pyplot as plt         # Para la generación de gráficas a partir de los datos\n",
    "import seaborn as sns                   # Para la visualización de datos basado en matplotlib\n",
    "%matplotlib inline                \n",
    "# Para generar imágenes dentro del cuaderno"
   ]
  },
  {
   "cell_type": "code",
   "execution_count": 2,
   "metadata": {
    "colab": {
     "base_uri": "https://localhost:8080/",
     "height": 835
    },
    "id": "Fj60_dEpDnCU",
    "outputId": "a832adf1-0de4-4fc2-fa91-2d297f6993fd"
   },
   "outputs": [
    {
     "data": {
      "text/html": [
       "<div>\n",
       "<style scoped>\n",
       "    .dataframe tbody tr th:only-of-type {\n",
       "        vertical-align: middle;\n",
       "    }\n",
       "\n",
       "    .dataframe tbody tr th {\n",
       "        vertical-align: top;\n",
       "    }\n",
       "\n",
       "    .dataframe thead th {\n",
       "        text-align: right;\n",
       "    }\n",
       "</style>\n",
       "<table border=\"1\" class=\"dataframe\">\n",
       "  <thead>\n",
       "    <tr style=\"text-align: right;\">\n",
       "      <th></th>\n",
       "      <th>Country</th>\n",
       "      <th>Year</th>\n",
       "      <th>Age Group</th>\n",
       "      <th>Sex</th>\n",
       "      <th>Currently_Drink_Alcohol</th>\n",
       "      <th>Really_Get_Drunk</th>\n",
       "      <th>Overwieght</th>\n",
       "      <th>Use_Marijuana</th>\n",
       "      <th>Have_Understanding_Parents</th>\n",
       "      <th>Missed_classes_without_permssion</th>\n",
       "      <th>Had_sexual_relation</th>\n",
       "      <th>Smoke_cig_currently</th>\n",
       "      <th>Had_fights</th>\n",
       "      <th>Bullied</th>\n",
       "      <th>Got_Seriously_injured</th>\n",
       "      <th>No_close_friends</th>\n",
       "      <th>Attempted_suicide</th>\n",
       "    </tr>\n",
       "  </thead>\n",
       "  <tbody>\n",
       "    <tr>\n",
       "      <th>0</th>\n",
       "      <td>Argentina</td>\n",
       "      <td>2018</td>\n",
       "      <td>13-15</td>\n",
       "      <td>Female</td>\n",
       "      <td>50.3</td>\n",
       "      <td>30.7</td>\n",
       "      <td>27.8</td>\n",
       "      <td>7.9</td>\n",
       "      <td>41.5</td>\n",
       "      <td>24.7</td>\n",
       "      <td>25.7</td>\n",
       "      <td>16.8</td>\n",
       "      <td>17.2</td>\n",
       "      <td>NaN</td>\n",
       "      <td>27.5</td>\n",
       "      <td>4.8</td>\n",
       "      <td>19.9</td>\n",
       "    </tr>\n",
       "    <tr>\n",
       "      <th>1</th>\n",
       "      <td>Argentina</td>\n",
       "      <td>2018</td>\n",
       "      <td>13-15</td>\n",
       "      <td>Male</td>\n",
       "      <td>44.9</td>\n",
       "      <td>26.1</td>\n",
       "      <td>39.1</td>\n",
       "      <td>8.4</td>\n",
       "      <td>44.5</td>\n",
       "      <td>27.9</td>\n",
       "      <td>38.4</td>\n",
       "      <td>12.1</td>\n",
       "      <td>33.2</td>\n",
       "      <td>NaN</td>\n",
       "      <td>37.4</td>\n",
       "      <td>5.5</td>\n",
       "      <td>10.4</td>\n",
       "    </tr>\n",
       "    <tr>\n",
       "      <th>2</th>\n",
       "      <td>Argentina</td>\n",
       "      <td>2018</td>\n",
       "      <td>16-17</td>\n",
       "      <td>Female</td>\n",
       "      <td>67.2</td>\n",
       "      <td>56.3</td>\n",
       "      <td>22.5</td>\n",
       "      <td>21.9</td>\n",
       "      <td>37.1</td>\n",
       "      <td>34.0</td>\n",
       "      <td>59.1</td>\n",
       "      <td>28.5</td>\n",
       "      <td>15.1</td>\n",
       "      <td>NaN</td>\n",
       "      <td>30.1</td>\n",
       "      <td>6.3</td>\n",
       "      <td>17.4</td>\n",
       "    </tr>\n",
       "    <tr>\n",
       "      <th>3</th>\n",
       "      <td>Argentina</td>\n",
       "      <td>2018</td>\n",
       "      <td>16-17</td>\n",
       "      <td>Male</td>\n",
       "      <td>68.1</td>\n",
       "      <td>55.8</td>\n",
       "      <td>27.9</td>\n",
       "      <td>27.0</td>\n",
       "      <td>39.8</td>\n",
       "      <td>39.4</td>\n",
       "      <td>68.6</td>\n",
       "      <td>28.0</td>\n",
       "      <td>33.6</td>\n",
       "      <td>NaN</td>\n",
       "      <td>40.3</td>\n",
       "      <td>6.6</td>\n",
       "      <td>11.2</td>\n",
       "    </tr>\n",
       "    <tr>\n",
       "      <th>4</th>\n",
       "      <td>Argentina</td>\n",
       "      <td>2012</td>\n",
       "      <td>13-15</td>\n",
       "      <td>Male</td>\n",
       "      <td>49.3</td>\n",
       "      <td>28.9</td>\n",
       "      <td>35.9</td>\n",
       "      <td>10.6</td>\n",
       "      <td>46.2</td>\n",
       "      <td>32.0</td>\n",
       "      <td>43.5</td>\n",
       "      <td>17.0</td>\n",
       "      <td>44.2</td>\n",
       "      <td>42.1</td>\n",
       "      <td>24.8</td>\n",
       "      <td>6.1</td>\n",
       "      <td>12.9</td>\n",
       "    </tr>\n",
       "    <tr>\n",
       "      <th>...</th>\n",
       "      <td>...</td>\n",
       "      <td>...</td>\n",
       "      <td>...</td>\n",
       "      <td>...</td>\n",
       "      <td>...</td>\n",
       "      <td>...</td>\n",
       "      <td>...</td>\n",
       "      <td>...</td>\n",
       "      <td>...</td>\n",
       "      <td>...</td>\n",
       "      <td>...</td>\n",
       "      <td>...</td>\n",
       "      <td>...</td>\n",
       "      <td>...</td>\n",
       "      <td>...</td>\n",
       "      <td>...</td>\n",
       "      <td>...</td>\n",
       "    </tr>\n",
       "    <tr>\n",
       "      <th>101</th>\n",
       "      <td>Vanuatu</td>\n",
       "      <td>2011</td>\n",
       "      <td>13-15</td>\n",
       "      <td>Female</td>\n",
       "      <td>5.8</td>\n",
       "      <td>4.7</td>\n",
       "      <td>13.6</td>\n",
       "      <td>1.9</td>\n",
       "      <td>20.2</td>\n",
       "      <td>44.6</td>\n",
       "      <td>8.4</td>\n",
       "      <td>8.2</td>\n",
       "      <td>41.8</td>\n",
       "      <td>66.5</td>\n",
       "      <td>57.4</td>\n",
       "      <td>14.3</td>\n",
       "      <td>19.5</td>\n",
       "    </tr>\n",
       "    <tr>\n",
       "      <th>102</th>\n",
       "      <td>Wallis and Futuna</td>\n",
       "      <td>2015</td>\n",
       "      <td>13-15</td>\n",
       "      <td>Male</td>\n",
       "      <td>32.2</td>\n",
       "      <td>35.5</td>\n",
       "      <td>60.5</td>\n",
       "      <td>4.0</td>\n",
       "      <td>36.3</td>\n",
       "      <td>32.7</td>\n",
       "      <td>32.0</td>\n",
       "      <td>25.7</td>\n",
       "      <td>48.7</td>\n",
       "      <td>30.2</td>\n",
       "      <td>51.2</td>\n",
       "      <td>4.1</td>\n",
       "      <td>14.7</td>\n",
       "    </tr>\n",
       "    <tr>\n",
       "      <th>103</th>\n",
       "      <td>Wallis and Futuna</td>\n",
       "      <td>2015</td>\n",
       "      <td>13-15</td>\n",
       "      <td>Female</td>\n",
       "      <td>24.4</td>\n",
       "      <td>27.1</td>\n",
       "      <td>63.0</td>\n",
       "      <td>2.0</td>\n",
       "      <td>36.3</td>\n",
       "      <td>16.2</td>\n",
       "      <td>13.6</td>\n",
       "      <td>29.9</td>\n",
       "      <td>22.9</td>\n",
       "      <td>30.9</td>\n",
       "      <td>41.7</td>\n",
       "      <td>3.3</td>\n",
       "      <td>16.9</td>\n",
       "    </tr>\n",
       "    <tr>\n",
       "      <th>104</th>\n",
       "      <td>Wallis and Futuna</td>\n",
       "      <td>2015</td>\n",
       "      <td>16-17</td>\n",
       "      <td>Male</td>\n",
       "      <td>48.3</td>\n",
       "      <td>53.7</td>\n",
       "      <td>57.8</td>\n",
       "      <td>10.1</td>\n",
       "      <td>36.5</td>\n",
       "      <td>38.9</td>\n",
       "      <td>55.7</td>\n",
       "      <td>40.0</td>\n",
       "      <td>49.6</td>\n",
       "      <td>23.6</td>\n",
       "      <td>54.5</td>\n",
       "      <td>7.3</td>\n",
       "      <td>9.0</td>\n",
       "    </tr>\n",
       "    <tr>\n",
       "      <th>105</th>\n",
       "      <td>Wallis and Futuna</td>\n",
       "      <td>2015</td>\n",
       "      <td>16-17</td>\n",
       "      <td>Female</td>\n",
       "      <td>42.9</td>\n",
       "      <td>51.7</td>\n",
       "      <td>70.6</td>\n",
       "      <td>3.9</td>\n",
       "      <td>37.8</td>\n",
       "      <td>37.2</td>\n",
       "      <td>22.4</td>\n",
       "      <td>41.7</td>\n",
       "      <td>17.3</td>\n",
       "      <td>29.4</td>\n",
       "      <td>30.4</td>\n",
       "      <td>1.5</td>\n",
       "      <td>16.2</td>\n",
       "    </tr>\n",
       "  </tbody>\n",
       "</table>\n",
       "<p>106 rows × 17 columns</p>\n",
       "</div>"
      ],
      "text/plain": [
       "                Country  Year Age Group     Sex  Currently_Drink_Alcohol  \\\n",
       "0             Argentina  2018     13-15  Female                     50.3   \n",
       "1             Argentina  2018     13-15    Male                     44.9   \n",
       "2             Argentina  2018     16-17  Female                     67.2   \n",
       "3             Argentina  2018     16-17    Male                     68.1   \n",
       "4             Argentina  2012     13-15    Male                     49.3   \n",
       "..                  ...   ...       ...     ...                      ...   \n",
       "101            Vanuatu   2011     13-15  Female                      5.8   \n",
       "102  Wallis and Futuna   2015     13-15    Male                     32.2   \n",
       "103  Wallis and Futuna   2015     13-15  Female                     24.4   \n",
       "104  Wallis and Futuna   2015     16-17    Male                     48.3   \n",
       "105  Wallis and Futuna   2015     16-17  Female                     42.9   \n",
       "\n",
       "     Really_Get_Drunk  Overwieght  Use_Marijuana  Have_Understanding_Parents  \\\n",
       "0                30.7        27.8            7.9                        41.5   \n",
       "1                26.1        39.1            8.4                        44.5   \n",
       "2                56.3        22.5           21.9                        37.1   \n",
       "3                55.8        27.9           27.0                        39.8   \n",
       "4                28.9        35.9           10.6                        46.2   \n",
       "..                ...         ...            ...                         ...   \n",
       "101               4.7        13.6            1.9                        20.2   \n",
       "102              35.5        60.5            4.0                        36.3   \n",
       "103              27.1        63.0            2.0                        36.3   \n",
       "104              53.7        57.8           10.1                        36.5   \n",
       "105              51.7        70.6            3.9                        37.8   \n",
       "\n",
       "     Missed_classes_without_permssion  Had_sexual_relation  \\\n",
       "0                                24.7                 25.7   \n",
       "1                                27.9                 38.4   \n",
       "2                                34.0                 59.1   \n",
       "3                                39.4                 68.6   \n",
       "4                                32.0                 43.5   \n",
       "..                                ...                  ...   \n",
       "101                              44.6                  8.4   \n",
       "102                              32.7                 32.0   \n",
       "103                              16.2                 13.6   \n",
       "104                              38.9                 55.7   \n",
       "105                              37.2                 22.4   \n",
       "\n",
       "     Smoke_cig_currently  Had_fights  Bullied  Got_Seriously_injured  \\\n",
       "0                   16.8        17.2      NaN                   27.5   \n",
       "1                   12.1        33.2      NaN                   37.4   \n",
       "2                   28.5        15.1      NaN                   30.1   \n",
       "3                   28.0        33.6      NaN                   40.3   \n",
       "4                   17.0        44.2     42.1                   24.8   \n",
       "..                   ...         ...      ...                    ...   \n",
       "101                  8.2        41.8     66.5                   57.4   \n",
       "102                 25.7        48.7     30.2                   51.2   \n",
       "103                 29.9        22.9     30.9                   41.7   \n",
       "104                 40.0        49.6     23.6                   54.5   \n",
       "105                 41.7        17.3     29.4                   30.4   \n",
       "\n",
       "     No_close_friends  Attempted_suicide  \n",
       "0                 4.8               19.9  \n",
       "1                 5.5               10.4  \n",
       "2                 6.3               17.4  \n",
       "3                 6.6               11.2  \n",
       "4                 6.1               12.9  \n",
       "..                ...                ...  \n",
       "101              14.3               19.5  \n",
       "102               4.1               14.7  \n",
       "103               3.3               16.9  \n",
       "104               7.3                9.0  \n",
       "105               1.5               16.2  \n",
       "\n",
       "[106 rows x 17 columns]"
      ]
     },
     "execution_count": 2,
     "metadata": {},
     "output_type": "execute_result"
    }
   ],
   "source": [
    "url = \"https://raw.githubusercontent.com/OsvaldoIG/MineriaDatos/main/Data/GHSH_Pooled_Data1.csv\"\n",
    "DatosSuicidio = pd.read_csv(url)\n",
    "DatosSuicidio"
   ]
  },
  {
   "cell_type": "markdown",
   "metadata": {
    "id": "GcezVK6oH-uv"
   },
   "source": [
    "### **Paso 1: Descripción de la estructura de los datos**\n",
    "\n",
    "**1) Forma (dimensiones) del DataFrame**"
   ]
  },
  {
   "cell_type": "code",
   "execution_count": 3,
   "metadata": {
    "colab": {
     "base_uri": "https://localhost:8080/"
    },
    "id": "PEqJIhlxIzVZ",
    "outputId": "023af451-514f-406b-890a-1e375af120fc"
   },
   "outputs": [
    {
     "data": {
      "text/plain": [
       "(106, 17)"
      ]
     },
     "execution_count": 3,
     "metadata": {},
     "output_type": "execute_result"
    }
   ],
   "source": [
    "DatosSuicidio.shape"
   ]
  },
  {
   "cell_type": "markdown",
   "metadata": {
    "id": "8-cnllY2JTV1"
   },
   "source": [
    "**2) Tipos de datos (variables)**"
   ]
  },
  {
   "cell_type": "code",
   "execution_count": 4,
   "metadata": {
    "colab": {
     "base_uri": "https://localhost:8080/"
    },
    "id": "BFYuK9rQJXn6",
    "outputId": "4ab4a1cb-1a56-415d-e97c-a254bfba3ef0"
   },
   "outputs": [
    {
     "data": {
      "text/plain": [
       "Country                              object\n",
       "Year                                  int64\n",
       "Age Group                            object\n",
       "Sex                                  object\n",
       "Currently_Drink_Alcohol             float64\n",
       "Really_Get_Drunk                    float64\n",
       "Overwieght                          float64\n",
       "Use_Marijuana                       float64\n",
       "Have_Understanding_Parents          float64\n",
       "Missed_classes_without_permssion    float64\n",
       "Had_sexual_relation                 float64\n",
       "Smoke_cig_currently                 float64\n",
       "Had_fights                          float64\n",
       "Bullied                             float64\n",
       "Got_Seriously_injured               float64\n",
       "No_close_friends                    float64\n",
       "Attempted_suicide                   float64\n",
       "dtype: object"
      ]
     },
     "execution_count": 4,
     "metadata": {},
     "output_type": "execute_result"
    }
   ],
   "source": [
    "DatosSuicidio.dtypes"
   ]
  },
  {
   "cell_type": "markdown",
   "metadata": {
    "id": "fbdpOwumIrDp"
   },
   "source": [
    "### **Paso 2: Identificación de datos faltantes**\n",
    "\n",
    "Una función útil de pandas es .isnull().sum() que regresa la suma de todos los valores nulos en cada variable."
   ]
  },
  {
   "cell_type": "code",
   "execution_count": 5,
   "metadata": {
    "colab": {
     "base_uri": "https://localhost:8080/"
    },
    "id": "nI1d8izYJ9ni",
    "outputId": "5ba8423f-67c4-4bd5-905a-f8181b4e7945"
   },
   "outputs": [
    {
     "data": {
      "text/plain": [
       "Country                             0\n",
       "Year                                0\n",
       "Age Group                           0\n",
       "Sex                                 0\n",
       "Currently_Drink_Alcohol             0\n",
       "Really_Get_Drunk                    0\n",
       "Overwieght                          0\n",
       "Use_Marijuana                       0\n",
       "Have_Understanding_Parents          0\n",
       "Missed_classes_without_permssion    0\n",
       "Had_sexual_relation                 0\n",
       "Smoke_cig_currently                 2\n",
       "Had_fights                          0\n",
       "Bullied                             4\n",
       "Got_Seriously_injured               0\n",
       "No_close_friends                    0\n",
       "Attempted_suicide                   0\n",
       "dtype: int64"
      ]
     },
     "execution_count": 5,
     "metadata": {},
     "output_type": "execute_result"
    }
   ],
   "source": [
    "DatosSuicidio.isnull().sum()"
   ]
  },
  {
   "cell_type": "code",
   "execution_count": 6,
   "metadata": {
    "colab": {
     "base_uri": "https://localhost:8080/"
    },
    "id": "3i0-YIF0KMzF",
    "outputId": "0efb56ca-0519-425a-d762-e20e73f389db"
   },
   "outputs": [
    {
     "name": "stdout",
     "output_type": "stream",
     "text": [
      "<class 'pandas.core.frame.DataFrame'>\n",
      "RangeIndex: 106 entries, 0 to 105\n",
      "Data columns (total 17 columns):\n",
      " #   Column                            Non-Null Count  Dtype  \n",
      "---  ------                            --------------  -----  \n",
      " 0   Country                           106 non-null    object \n",
      " 1   Year                              106 non-null    int64  \n",
      " 2   Age Group                         106 non-null    object \n",
      " 3   Sex                               106 non-null    object \n",
      " 4   Currently_Drink_Alcohol           106 non-null    float64\n",
      " 5   Really_Get_Drunk                  106 non-null    float64\n",
      " 6   Overwieght                        106 non-null    float64\n",
      " 7   Use_Marijuana                     106 non-null    float64\n",
      " 8   Have_Understanding_Parents        106 non-null    float64\n",
      " 9   Missed_classes_without_permssion  106 non-null    float64\n",
      " 10  Had_sexual_relation               106 non-null    float64\n",
      " 11  Smoke_cig_currently               104 non-null    float64\n",
      " 12  Had_fights                        106 non-null    float64\n",
      " 13  Bullied                           102 non-null    float64\n",
      " 14  Got_Seriously_injured             106 non-null    float64\n",
      " 15  No_close_friends                  106 non-null    float64\n",
      " 16  Attempted_suicide                 106 non-null    float64\n",
      "dtypes: float64(13), int64(1), object(3)\n",
      "memory usage: 14.2+ KB\n"
     ]
    }
   ],
   "source": [
    "DatosSuicidio.info()"
   ]
  },
  {
   "cell_type": "markdown",
   "metadata": {
    "id": "3UFHKSG2It_D"
   },
   "source": [
    "### **Paso 3: Detección de valores atípicos**\n"
   ]
  },
  {
   "cell_type": "markdown",
   "metadata": {
    "id": "XXGWHIN8hcEk"
   },
   "source": [
    "**1) Distribución de variables numéricas**"
   ]
  },
  {
   "cell_type": "code",
   "execution_count": 7,
   "metadata": {
    "colab": {
     "base_uri": "https://localhost:8080/",
     "height": 849
    },
    "id": "gPZ2ls_VhqXm",
    "outputId": "0d9d6382-f5cb-484d-fa79-096f1475d823"
   },
   "outputs": [
    {
     "data": {
      "image/png": "[encoded data removed]",
      "text/plain": [
       "<Figure size 1008x1008 with 16 Axes>"
      ]
     },
     "metadata": {
      "needs_background": "light"
     },
     "output_type": "display_data"
    }
   ],
   "source": [
    "DatosSuicidio.hist(figsize=(14,14), xrot=45, color='red')\n",
    "plt.show()"
   ]
  },
  {
   "cell_type": "markdown",
   "metadata": {},
   "source": [
    "*Existen datos extraños, ya que existen datos mayores a un 100%"
   ]
  },
  {
   "cell_type": "markdown",
   "metadata": {
    "id": "Png--NKNigVz"
   },
   "source": [
    "**Qué buscar:**\n",
    "\n",
    "* Posibles valores atípicos, que pueden ser errores de medición.\n",
    "\n",
    "* Límites que no tienen sentido, como valores porcentuales > 100."
   ]
  },
  {
   "cell_type": "markdown",
   "metadata": {
    "id": "kcoFF4zwi5Z3"
   },
   "source": [
    "**2) Resumen estadístico de variables numéricas**\n",
    "\n",
    "Se sacan estadísticas usando describe() que muestra un resumen estadístico de las variables numéricas."
   ]
  },
  {
   "cell_type": "code",
   "execution_count": 8,
   "metadata": {
    "colab": {
     "base_uri": "https://localhost:8080/",
     "height": 364
    },
    "id": "iMYq7Xjki6_0",
    "outputId": "175eecc9-9acf-43cc-f09d-040b539136ca"
   },
   "outputs": [
    {
     "data": {
      "text/html": [
       "<div>\n",
       "<style scoped>\n",
       "    .dataframe tbody tr th:only-of-type {\n",
       "        vertical-align: middle;\n",
       "    }\n",
       "\n",
       "    .dataframe tbody tr th {\n",
       "        vertical-align: top;\n",
       "    }\n",
       "\n",
       "    .dataframe thead th {\n",
       "        text-align: right;\n",
       "    }\n",
       "</style>\n",
       "<table border=\"1\" class=\"dataframe\">\n",
       "  <thead>\n",
       "    <tr style=\"text-align: right;\">\n",
       "      <th></th>\n",
       "      <th>Year</th>\n",
       "      <th>Currently_Drink_Alcohol</th>\n",
       "      <th>Really_Get_Drunk</th>\n",
       "      <th>Overwieght</th>\n",
       "      <th>Use_Marijuana</th>\n",
       "      <th>Have_Understanding_Parents</th>\n",
       "      <th>Missed_classes_without_permssion</th>\n",
       "      <th>Had_sexual_relation</th>\n",
       "      <th>Smoke_cig_currently</th>\n",
       "      <th>Had_fights</th>\n",
       "      <th>Bullied</th>\n",
       "      <th>Got_Seriously_injured</th>\n",
       "      <th>No_close_friends</th>\n",
       "      <th>Attempted_suicide</th>\n",
       "    </tr>\n",
       "  </thead>\n",
       "  <tbody>\n",
       "    <tr>\n",
       "      <th>count</th>\n",
       "      <td>106.000000</td>\n",
       "      <td>106.000000</td>\n",
       "      <td>106.000000</td>\n",
       "      <td>106.000000</td>\n",
       "      <td>106.000000</td>\n",
       "      <td>106.000000</td>\n",
       "      <td>106.000000</td>\n",
       "      <td>106.000000</td>\n",
       "      <td>104.000000</td>\n",
       "      <td>106.000000</td>\n",
       "      <td>102.000000</td>\n",
       "      <td>106.000000</td>\n",
       "      <td>106.000000</td>\n",
       "      <td>106.000000</td>\n",
       "    </tr>\n",
       "    <tr>\n",
       "      <th>mean</th>\n",
       "      <td>2014.698113</td>\n",
       "      <td>31.815094</td>\n",
       "      <td>22.496226</td>\n",
       "      <td>23.694340</td>\n",
       "      <td>7.642453</td>\n",
       "      <td>33.190566</td>\n",
       "      <td>29.996226</td>\n",
       "      <td>26.679245</td>\n",
       "      <td>15.546154</td>\n",
       "      <td>32.448113</td>\n",
       "      <td>31.109804</td>\n",
       "      <td>43.723679</td>\n",
       "      <td>7.744340</td>\n",
       "      <td>14.452830</td>\n",
       "    </tr>\n",
       "    <tr>\n",
       "      <th>std</th>\n",
       "      <td>2.089292</td>\n",
       "      <td>53.454089</td>\n",
       "      <td>16.553129</td>\n",
       "      <td>15.764075</td>\n",
       "      <td>8.713536</td>\n",
       "      <td>11.559408</td>\n",
       "      <td>10.786728</td>\n",
       "      <td>17.401318</td>\n",
       "      <td>10.748501</td>\n",
       "      <td>15.297701</td>\n",
       "      <td>14.185479</td>\n",
       "      <td>14.808421</td>\n",
       "      <td>4.365254</td>\n",
       "      <td>9.273621</td>\n",
       "    </tr>\n",
       "    <tr>\n",
       "      <th>min</th>\n",
       "      <td>2010.000000</td>\n",
       "      <td>1.400000</td>\n",
       "      <td>0.800000</td>\n",
       "      <td>3.300000</td>\n",
       "      <td>0.000000</td>\n",
       "      <td>5.600000</td>\n",
       "      <td>6.500000</td>\n",
       "      <td>2.500000</td>\n",
       "      <td>1.200000</td>\n",
       "      <td>3.500000</td>\n",
       "      <td>9.900000</td>\n",
       "      <td>15.200000</td>\n",
       "      <td>1.500000</td>\n",
       "      <td>2.700000</td>\n",
       "    </tr>\n",
       "    <tr>\n",
       "      <th>25%</th>\n",
       "      <td>2013.000000</td>\n",
       "      <td>11.550000</td>\n",
       "      <td>9.000000</td>\n",
       "      <td>11.400000</td>\n",
       "      <td>2.025000</td>\n",
       "      <td>25.825000</td>\n",
       "      <td>22.450000</td>\n",
       "      <td>12.600000</td>\n",
       "      <td>7.050000</td>\n",
       "      <td>20.750000</td>\n",
       "      <td>21.775000</td>\n",
       "      <td>34.800000</td>\n",
       "      <td>4.500000</td>\n",
       "      <td>9.400000</td>\n",
       "    </tr>\n",
       "    <tr>\n",
       "      <th>50%</th>\n",
       "      <td>2015.000000</td>\n",
       "      <td>26.000000</td>\n",
       "      <td>19.650000</td>\n",
       "      <td>21.800000</td>\n",
       "      <td>4.350000</td>\n",
       "      <td>33.400000</td>\n",
       "      <td>28.950000</td>\n",
       "      <td>22.350000</td>\n",
       "      <td>12.600000</td>\n",
       "      <td>29.650000</td>\n",
       "      <td>27.550000</td>\n",
       "      <td>41.400000</td>\n",
       "      <td>6.950000</td>\n",
       "      <td>11.850000</td>\n",
       "    </tr>\n",
       "    <tr>\n",
       "      <th>75%</th>\n",
       "      <td>2016.000000</td>\n",
       "      <td>42.350000</td>\n",
       "      <td>30.475000</td>\n",
       "      <td>31.850000</td>\n",
       "      <td>9.575000</td>\n",
       "      <td>40.850000</td>\n",
       "      <td>36.825000</td>\n",
       "      <td>37.100000</td>\n",
       "      <td>22.000000</td>\n",
       "      <td>42.700000</td>\n",
       "      <td>41.150000</td>\n",
       "      <td>53.150000</td>\n",
       "      <td>9.700000</td>\n",
       "      <td>18.425000</td>\n",
       "    </tr>\n",
       "    <tr>\n",
       "      <th>max</th>\n",
       "      <td>2018.000000</td>\n",
       "      <td>548.000000</td>\n",
       "      <td>80.200000</td>\n",
       "      <td>70.600000</td>\n",
       "      <td>43.200000</td>\n",
       "      <td>63.900000</td>\n",
       "      <td>62.200000</td>\n",
       "      <td>73.900000</td>\n",
       "      <td>43.800000</td>\n",
       "      <td>76.500000</td>\n",
       "      <td>78.600000</td>\n",
       "      <td>87.700000</td>\n",
       "      <td>24.800000</td>\n",
       "      <td>67.200000</td>\n",
       "    </tr>\n",
       "  </tbody>\n",
       "</table>\n",
       "</div>"
      ],
      "text/plain": [
       "              Year  Currently_Drink_Alcohol  Really_Get_Drunk  Overwieght  \\\n",
       "count   106.000000               106.000000        106.000000  106.000000   \n",
       "mean   2014.698113                31.815094         22.496226   23.694340   \n",
       "std       2.089292                53.454089         16.553129   15.764075   \n",
       "min    2010.000000                 1.400000          0.800000    3.300000   \n",
       "25%    2013.000000                11.550000          9.000000   11.400000   \n",
       "50%    2015.000000                26.000000         19.650000   21.800000   \n",
       "75%    2016.000000                42.350000         30.475000   31.850000   \n",
       "max    2018.000000               548.000000         80.200000   70.600000   \n",
       "\n",
       "       Use_Marijuana  Have_Understanding_Parents  \\\n",
       "count     106.000000                  106.000000   \n",
       "mean        7.642453                   33.190566   \n",
       "std         8.713536                   11.559408   \n",
       "min         0.000000                    5.600000   \n",
       "25%         2.025000                   25.825000   \n",
       "50%         4.350000                   33.400000   \n",
       "75%         9.575000                   40.850000   \n",
       "max        43.200000                   63.900000   \n",
       "\n",
       "       Missed_classes_without_permssion  Had_sexual_relation  \\\n",
       "count                        106.000000           106.000000   \n",
       "mean                          29.996226            26.679245   \n",
       "std                           10.786728            17.401318   \n",
       "min                            6.500000             2.500000   \n",
       "25%                           22.450000            12.600000   \n",
       "50%                           28.950000            22.350000   \n",
       "75%                           36.825000            37.100000   \n",
       "max                           62.200000            73.900000   \n",
       "\n",
       "       Smoke_cig_currently  Had_fights     Bullied  Got_Seriously_injured  \\\n",
       "count           104.000000  106.000000  102.000000             106.000000   \n",
       "mean             15.546154   32.448113   31.109804              43.723679   \n",
       "std              10.748501   15.297701   14.185479              14.808421   \n",
       "min               1.200000    3.500000    9.900000              15.200000   \n",
       "25%               7.050000   20.750000   21.775000              34.800000   \n",
       "50%              12.600000   29.650000   27.550000              41.400000   \n",
       "75%              22.000000   42.700000   41.150000              53.150000   \n",
       "max              43.800000   76.500000   78.600000              87.700000   \n",
       "\n",
       "       No_close_friends  Attempted_suicide  \n",
       "count        106.000000         106.000000  \n",
       "mean           7.744340          14.452830  \n",
       "std            4.365254           9.273621  \n",
       "min            1.500000           2.700000  \n",
       "25%            4.500000           9.400000  \n",
       "50%            6.950000          11.850000  \n",
       "75%            9.700000          18.425000  \n",
       "max           24.800000          67.200000  "
      ]
     },
     "execution_count": 8,
     "metadata": {},
     "output_type": "execute_result"
    }
   ],
   "source": [
    "DatosSuicidio.describe()"
   ]
  },
  {
   "cell_type": "markdown",
   "metadata": {
    "id": "PcOVoZsvjToG"
   },
   "source": [
    "**3)   Diagramas para detectar posibles valores atípicos**\n"
   ]
  },
  {
   "cell_type": "code",
   "execution_count": 9,
   "metadata": {
    "colab": {
     "base_uri": "https://localhost:8080/",
     "height": 1000
    },
    "id": "ANZprC0sjhgu",
    "outputId": "1b1bbf43-8080-4d65-fc5f-273225786d87"
   },
   "outputs": [
    {
     "name": "stderr",
     "output_type": "stream",
     "text": [
      "D:\\Users\\osva_\\anaconda3\\lib\\site-packages\\seaborn\\_decorators.py:36: FutureWarning: Pass the following variable as a keyword arg: x. From version 0.12, the only valid positional argument will be `data`, and passing other arguments without an explicit keyword will result in an error or misinterpretation.\n",
      "  warnings.warn(\n"
     ]
    },
    {
     "data": {
      "image/png": "[encoded data removed]",
      "text/plain": [
       "<Figure size 432x288 with 1 Axes>"
      ]
     },
     "metadata": {
      "needs_background": "light"
     },
     "output_type": "display_data"
    }
   ],
   "source": [
    "VariablesValoresAtipicos = ['Currently_Drink_Alcohol']\n",
    "for col in VariablesValoresAtipicos:\n",
    "  sns.boxplot(col, data=DatosSuicidio)\n",
    "  plt.show()"
   ]
  },
  {
   "cell_type": "markdown",
   "metadata": {
    "id": "-tRvxGmDlVAh"
   },
   "source": [
    "**4) Distribución de variables categóricas**\n"
   ]
  },
  {
   "cell_type": "code",
   "execution_count": 10,
   "metadata": {
    "colab": {
     "base_uri": "https://localhost:8080/",
     "height": 236
    },
    "id": "jk-mkeGtlW5_",
    "outputId": "4c9b58a5-631b-4ff4-d30a-dbab90357304"
   },
   "outputs": [
    {
     "data": {
      "text/html": [
       "<div>\n",
       "<style scoped>\n",
       "    .dataframe tbody tr th:only-of-type {\n",
       "        vertical-align: middle;\n",
       "    }\n",
       "\n",
       "    .dataframe tbody tr th {\n",
       "        vertical-align: top;\n",
       "    }\n",
       "\n",
       "    .dataframe thead th {\n",
       "        text-align: right;\n",
       "    }\n",
       "</style>\n",
       "<table border=\"1\" class=\"dataframe\">\n",
       "  <thead>\n",
       "    <tr style=\"text-align: right;\">\n",
       "      <th></th>\n",
       "      <th>Country</th>\n",
       "      <th>Age Group</th>\n",
       "      <th>Sex</th>\n",
       "    </tr>\n",
       "  </thead>\n",
       "  <tbody>\n",
       "    <tr>\n",
       "      <th>count</th>\n",
       "      <td>106</td>\n",
       "      <td>106</td>\n",
       "      <td>106</td>\n",
       "    </tr>\n",
       "    <tr>\n",
       "      <th>unique</th>\n",
       "      <td>27</td>\n",
       "      <td>2</td>\n",
       "      <td>2</td>\n",
       "    </tr>\n",
       "    <tr>\n",
       "      <th>top</th>\n",
       "      <td>Argentina</td>\n",
       "      <td>13-15</td>\n",
       "      <td>Female</td>\n",
       "    </tr>\n",
       "    <tr>\n",
       "      <th>freq</th>\n",
       "      <td>6</td>\n",
       "      <td>62</td>\n",
       "      <td>53</td>\n",
       "    </tr>\n",
       "  </tbody>\n",
       "</table>\n",
       "</div>"
      ],
      "text/plain": [
       "          Country Age Group     Sex\n",
       "count         106       106     106\n",
       "unique         27         2       2\n",
       "top     Argentina     13-15  Female\n",
       "freq            6        62      53"
      ]
     },
     "execution_count": 10,
     "metadata": {},
     "output_type": "execute_result"
    }
   ],
   "source": [
    "DatosSuicidio.describe(include='object')"
   ]
  },
  {
   "cell_type": "markdown",
   "metadata": {},
   "source": [
    "**Plot**"
   ]
  },
  {
   "cell_type": "code",
   "execution_count": 11,
   "metadata": {},
   "outputs": [
    {
     "data": {
      "image/png": "[encoded data removed]",
      "text/plain": [
       "<Figure size 432x288 with 1 Axes>"
      ]
     },
     "metadata": {
      "needs_background": "light"
     },
     "output_type": "display_data"
    },
    {
     "data": {
      "image/png": "[encoded data removed]",
      "text/plain": [
       "<Figure size 432x288 with 1 Axes>"
      ]
     },
     "metadata": {
      "needs_background": "light"
     },
     "output_type": "display_data"
    },
    {
     "data": {
      "image/png": "[encoded data removed]",
      "text/plain": [
       "<Figure size 432x288 with 1 Axes>"
      ]
     },
     "metadata": {
      "needs_background": "light"
     },
     "output_type": "display_data"
    }
   ],
   "source": [
    "for col in DatosSuicidio.select_dtypes(include='object'):\n",
    "  if DatosSuicidio[col].all():sns.countplot(y=col, data=DatosSuicidio)\n",
    "  plt.show()"
   ]
  },
  {
   "cell_type": "markdown",
   "metadata": {
    "id": "koHr8LNKIwc8"
   },
   "source": [
    "### **Paso 4: Identificación de relaciones entre pares variables**\n",
    "\n",
    "Una matriz de correlaciones es útil para analizar la relación entre las variables numéricas.\n",
    "Se emplea la función corr()"
   ]
  },
  {
   "cell_type": "code",
   "execution_count": 12,
   "metadata": {
    "colab": {
     "base_uri": "https://localhost:8080/",
     "height": 396
    },
    "id": "RT2Uqg7c0K2U",
    "outputId": "b071916f-3418-4d30-c278-f158614c6886"
   },
   "outputs": [
    {
     "data": {
      "text/html": [
       "<div>\n",
       "<style scoped>\n",
       "    .dataframe tbody tr th:only-of-type {\n",
       "        vertical-align: middle;\n",
       "    }\n",
       "\n",
       "    .dataframe tbody tr th {\n",
       "        vertical-align: top;\n",
       "    }\n",
       "\n",
       "    .dataframe thead th {\n",
       "        text-align: right;\n",
       "    }\n",
       "</style>\n",
       "<table border=\"1\" class=\"dataframe\">\n",
       "  <thead>\n",
       "    <tr style=\"text-align: right;\">\n",
       "      <th></th>\n",
       "      <th>Currently_Drink_Alcohol</th>\n",
       "      <th>Really_Get_Drunk</th>\n",
       "      <th>Overwieght</th>\n",
       "      <th>Use_Marijuana</th>\n",
       "      <th>Have_Understanding_Parents</th>\n",
       "      <th>Missed_classes_without_permssion</th>\n",
       "      <th>Had_sexual_relation</th>\n",
       "      <th>Smoke_cig_currently</th>\n",
       "      <th>Had_fights</th>\n",
       "      <th>Bullied</th>\n",
       "      <th>Got_Seriously_injured</th>\n",
       "      <th>No_close_friends</th>\n",
       "      <th>Attempted_suicide</th>\n",
       "    </tr>\n",
       "  </thead>\n",
       "  <tbody>\n",
       "    <tr>\n",
       "      <th>Currently_Drink_Alcohol</th>\n",
       "      <td>1.000000</td>\n",
       "      <td>0.311971</td>\n",
       "      <td>0.037212</td>\n",
       "      <td>0.318670</td>\n",
       "      <td>0.085079</td>\n",
       "      <td>0.002931</td>\n",
       "      <td>0.418399</td>\n",
       "      <td>0.141118</td>\n",
       "      <td>0.036944</td>\n",
       "      <td>-0.028085</td>\n",
       "      <td>-0.012972</td>\n",
       "      <td>0.131297</td>\n",
       "      <td>0.098731</td>\n",
       "    </tr>\n",
       "    <tr>\n",
       "      <th>Really_Get_Drunk</th>\n",
       "      <td>0.311971</td>\n",
       "      <td>1.000000</td>\n",
       "      <td>0.191082</td>\n",
       "      <td>0.604226</td>\n",
       "      <td>0.199064</td>\n",
       "      <td>0.029132</td>\n",
       "      <td>0.674573</td>\n",
       "      <td>0.584109</td>\n",
       "      <td>0.052409</td>\n",
       "      <td>0.026526</td>\n",
       "      <td>0.066561</td>\n",
       "      <td>0.206292</td>\n",
       "      <td>0.235646</td>\n",
       "    </tr>\n",
       "    <tr>\n",
       "      <th>Overwieght</th>\n",
       "      <td>0.037212</td>\n",
       "      <td>0.191082</td>\n",
       "      <td>1.000000</td>\n",
       "      <td>0.121040</td>\n",
       "      <td>0.092736</td>\n",
       "      <td>0.063789</td>\n",
       "      <td>0.083223</td>\n",
       "      <td>0.241447</td>\n",
       "      <td>0.189777</td>\n",
       "      <td>-0.008283</td>\n",
       "      <td>-0.050310</td>\n",
       "      <td>0.053527</td>\n",
       "      <td>0.288114</td>\n",
       "    </tr>\n",
       "    <tr>\n",
       "      <th>Use_Marijuana</th>\n",
       "      <td>0.318670</td>\n",
       "      <td>0.604226</td>\n",
       "      <td>0.121040</td>\n",
       "      <td>1.000000</td>\n",
       "      <td>0.105225</td>\n",
       "      <td>0.261242</td>\n",
       "      <td>0.675593</td>\n",
       "      <td>0.554177</td>\n",
       "      <td>0.346987</td>\n",
       "      <td>0.171492</td>\n",
       "      <td>0.310927</td>\n",
       "      <td>0.266877</td>\n",
       "      <td>0.403062</td>\n",
       "    </tr>\n",
       "    <tr>\n",
       "      <th>Have_Understanding_Parents</th>\n",
       "      <td>0.085079</td>\n",
       "      <td>0.199064</td>\n",
       "      <td>0.092736</td>\n",
       "      <td>0.105225</td>\n",
       "      <td>1.000000</td>\n",
       "      <td>-0.483356</td>\n",
       "      <td>0.080762</td>\n",
       "      <td>-0.114372</td>\n",
       "      <td>-0.077071</td>\n",
       "      <td>-0.037443</td>\n",
       "      <td>-0.221525</td>\n",
       "      <td>-0.000703</td>\n",
       "      <td>-0.081001</td>\n",
       "    </tr>\n",
       "    <tr>\n",
       "      <th>Missed_classes_without_permssion</th>\n",
       "      <td>0.002931</td>\n",
       "      <td>0.029132</td>\n",
       "      <td>0.063789</td>\n",
       "      <td>0.261242</td>\n",
       "      <td>-0.483356</td>\n",
       "      <td>1.000000</td>\n",
       "      <td>0.296897</td>\n",
       "      <td>0.513178</td>\n",
       "      <td>0.395450</td>\n",
       "      <td>0.357598</td>\n",
       "      <td>0.368259</td>\n",
       "      <td>0.086721</td>\n",
       "      <td>0.341590</td>\n",
       "    </tr>\n",
       "    <tr>\n",
       "      <th>Had_sexual_relation</th>\n",
       "      <td>0.418399</td>\n",
       "      <td>0.674573</td>\n",
       "      <td>0.083223</td>\n",
       "      <td>0.675593</td>\n",
       "      <td>0.080762</td>\n",
       "      <td>0.296897</td>\n",
       "      <td>1.000000</td>\n",
       "      <td>0.441673</td>\n",
       "      <td>0.293354</td>\n",
       "      <td>0.269553</td>\n",
       "      <td>0.351281</td>\n",
       "      <td>0.405993</td>\n",
       "      <td>0.405801</td>\n",
       "    </tr>\n",
       "    <tr>\n",
       "      <th>Smoke_cig_currently</th>\n",
       "      <td>0.141118</td>\n",
       "      <td>0.584109</td>\n",
       "      <td>0.241447</td>\n",
       "      <td>0.554177</td>\n",
       "      <td>-0.114372</td>\n",
       "      <td>0.513178</td>\n",
       "      <td>0.441673</td>\n",
       "      <td>1.000000</td>\n",
       "      <td>0.414761</td>\n",
       "      <td>0.166785</td>\n",
       "      <td>0.379955</td>\n",
       "      <td>0.063823</td>\n",
       "      <td>0.270560</td>\n",
       "    </tr>\n",
       "    <tr>\n",
       "      <th>Had_fights</th>\n",
       "      <td>0.036944</td>\n",
       "      <td>0.052409</td>\n",
       "      <td>0.189777</td>\n",
       "      <td>0.346987</td>\n",
       "      <td>-0.077071</td>\n",
       "      <td>0.395450</td>\n",
       "      <td>0.293354</td>\n",
       "      <td>0.414761</td>\n",
       "      <td>1.000000</td>\n",
       "      <td>0.535614</td>\n",
       "      <td>0.666807</td>\n",
       "      <td>0.304187</td>\n",
       "      <td>0.338233</td>\n",
       "    </tr>\n",
       "    <tr>\n",
       "      <th>Bullied</th>\n",
       "      <td>-0.028085</td>\n",
       "      <td>0.026526</td>\n",
       "      <td>-0.008283</td>\n",
       "      <td>0.171492</td>\n",
       "      <td>-0.037443</td>\n",
       "      <td>0.357598</td>\n",
       "      <td>0.269553</td>\n",
       "      <td>0.166785</td>\n",
       "      <td>0.535614</td>\n",
       "      <td>1.000000</td>\n",
       "      <td>0.678931</td>\n",
       "      <td>0.410673</td>\n",
       "      <td>0.663481</td>\n",
       "    </tr>\n",
       "    <tr>\n",
       "      <th>Got_Seriously_injured</th>\n",
       "      <td>-0.012972</td>\n",
       "      <td>0.066561</td>\n",
       "      <td>-0.050310</td>\n",
       "      <td>0.310927</td>\n",
       "      <td>-0.221525</td>\n",
       "      <td>0.368259</td>\n",
       "      <td>0.351281</td>\n",
       "      <td>0.379955</td>\n",
       "      <td>0.666807</td>\n",
       "      <td>0.678931</td>\n",
       "      <td>1.000000</td>\n",
       "      <td>0.316487</td>\n",
       "      <td>0.493641</td>\n",
       "    </tr>\n",
       "    <tr>\n",
       "      <th>No_close_friends</th>\n",
       "      <td>0.131297</td>\n",
       "      <td>0.206292</td>\n",
       "      <td>0.053527</td>\n",
       "      <td>0.266877</td>\n",
       "      <td>-0.000703</td>\n",
       "      <td>0.086721</td>\n",
       "      <td>0.405993</td>\n",
       "      <td>0.063823</td>\n",
       "      <td>0.304187</td>\n",
       "      <td>0.410673</td>\n",
       "      <td>0.316487</td>\n",
       "      <td>1.000000</td>\n",
       "      <td>0.452515</td>\n",
       "    </tr>\n",
       "    <tr>\n",
       "      <th>Attempted_suicide</th>\n",
       "      <td>0.098731</td>\n",
       "      <td>0.235646</td>\n",
       "      <td>0.288114</td>\n",
       "      <td>0.403062</td>\n",
       "      <td>-0.081001</td>\n",
       "      <td>0.341590</td>\n",
       "      <td>0.405801</td>\n",
       "      <td>0.270560</td>\n",
       "      <td>0.338233</td>\n",
       "      <td>0.663481</td>\n",
       "      <td>0.493641</td>\n",
       "      <td>0.452515</td>\n",
       "      <td>1.000000</td>\n",
       "    </tr>\n",
       "  </tbody>\n",
       "</table>\n",
       "</div>"
      ],
      "text/plain": [
       "                                  Currently_Drink_Alcohol  Really_Get_Drunk  \\\n",
       "Currently_Drink_Alcohol                          1.000000          0.311971   \n",
       "Really_Get_Drunk                                 0.311971          1.000000   \n",
       "Overwieght                                       0.037212          0.191082   \n",
       "Use_Marijuana                                    0.318670          0.604226   \n",
       "Have_Understanding_Parents                       0.085079          0.199064   \n",
       "Missed_classes_without_permssion                 0.002931          0.029132   \n",
       "Had_sexual_relation                              0.418399          0.674573   \n",
       "Smoke_cig_currently                              0.141118          0.584109   \n",
       "Had_fights                                       0.036944          0.052409   \n",
       "Bullied                                         -0.028085          0.026526   \n",
       "Got_Seriously_injured                           -0.012972          0.066561   \n",
       "No_close_friends                                 0.131297          0.206292   \n",
       "Attempted_suicide                                0.098731          0.235646   \n",
       "\n",
       "                                  Overwieght  Use_Marijuana  \\\n",
       "Currently_Drink_Alcohol             0.037212       0.318670   \n",
       "Really_Get_Drunk                    0.191082       0.604226   \n",
       "Overwieght                          1.000000       0.121040   \n",
       "Use_Marijuana                       0.121040       1.000000   \n",
       "Have_Understanding_Parents          0.092736       0.105225   \n",
       "Missed_classes_without_permssion    0.063789       0.261242   \n",
       "Had_sexual_relation                 0.083223       0.675593   \n",
       "Smoke_cig_currently                 0.241447       0.554177   \n",
       "Had_fights                          0.189777       0.346987   \n",
       "Bullied                            -0.008283       0.171492   \n",
       "Got_Seriously_injured              -0.050310       0.310927   \n",
       "No_close_friends                    0.053527       0.266877   \n",
       "Attempted_suicide                   0.288114       0.403062   \n",
       "\n",
       "                                  Have_Understanding_Parents  \\\n",
       "Currently_Drink_Alcohol                             0.085079   \n",
       "Really_Get_Drunk                                    0.199064   \n",
       "Overwieght                                          0.092736   \n",
       "Use_Marijuana                                       0.105225   \n",
       "Have_Understanding_Parents                          1.000000   \n",
       "Missed_classes_without_permssion                   -0.483356   \n",
       "Had_sexual_relation                                 0.080762   \n",
       "Smoke_cig_currently                                -0.114372   \n",
       "Had_fights                                         -0.077071   \n",
       "Bullied                                            -0.037443   \n",
       "Got_Seriously_injured                              -0.221525   \n",
       "No_close_friends                                   -0.000703   \n",
       "Attempted_suicide                                  -0.081001   \n",
       "\n",
       "                                  Missed_classes_without_permssion  \\\n",
       "Currently_Drink_Alcohol                                   0.002931   \n",
       "Really_Get_Drunk                                          0.029132   \n",
       "Overwieght                                                0.063789   \n",
       "Use_Marijuana                                             0.261242   \n",
       "Have_Understanding_Parents                               -0.483356   \n",
       "Missed_classes_without_permssion                          1.000000   \n",
       "Had_sexual_relation                                       0.296897   \n",
       "Smoke_cig_currently                                       0.513178   \n",
       "Had_fights                                                0.395450   \n",
       "Bullied                                                   0.357598   \n",
       "Got_Seriously_injured                                     0.368259   \n",
       "No_close_friends                                          0.086721   \n",
       "Attempted_suicide                                         0.341590   \n",
       "\n",
       "                                  Had_sexual_relation  Smoke_cig_currently  \\\n",
       "Currently_Drink_Alcohol                      0.418399             0.141118   \n",
       "Really_Get_Drunk                             0.674573             0.584109   \n",
       "Overwieght                                   0.083223             0.241447   \n",
       "Use_Marijuana                                0.675593             0.554177   \n",
       "Have_Understanding_Parents                   0.080762            -0.114372   \n",
       "Missed_classes_without_permssion             0.296897             0.513178   \n",
       "Had_sexual_relation                          1.000000             0.441673   \n",
       "Smoke_cig_currently                          0.441673             1.000000   \n",
       "Had_fights                                   0.293354             0.414761   \n",
       "Bullied                                      0.269553             0.166785   \n",
       "Got_Seriously_injured                        0.351281             0.379955   \n",
       "No_close_friends                             0.405993             0.063823   \n",
       "Attempted_suicide                            0.405801             0.270560   \n",
       "\n",
       "                                  Had_fights   Bullied  Got_Seriously_injured  \\\n",
       "Currently_Drink_Alcohol             0.036944 -0.028085              -0.012972   \n",
       "Really_Get_Drunk                    0.052409  0.026526               0.066561   \n",
       "Overwieght                          0.189777 -0.008283              -0.050310   \n",
       "Use_Marijuana                       0.346987  0.171492               0.310927   \n",
       "Have_Understanding_Parents         -0.077071 -0.037443              -0.221525   \n",
       "Missed_classes_without_permssion    0.395450  0.357598               0.368259   \n",
       "Had_sexual_relation                 0.293354  0.269553               0.351281   \n",
       "Smoke_cig_currently                 0.414761  0.166785               0.379955   \n",
       "Had_fights                          1.000000  0.535614               0.666807   \n",
       "Bullied                             0.535614  1.000000               0.678931   \n",
       "Got_Seriously_injured               0.666807  0.678931               1.000000   \n",
       "No_close_friends                    0.304187  0.410673               0.316487   \n",
       "Attempted_suicide                   0.338233  0.663481               0.493641   \n",
       "\n",
       "                                  No_close_friends  Attempted_suicide  \n",
       "Currently_Drink_Alcohol                   0.131297           0.098731  \n",
       "Really_Get_Drunk                          0.206292           0.235646  \n",
       "Overwieght                                0.053527           0.288114  \n",
       "Use_Marijuana                             0.266877           0.403062  \n",
       "Have_Understanding_Parents               -0.000703          -0.081001  \n",
       "Missed_classes_without_permssion          0.086721           0.341590  \n",
       "Had_sexual_relation                       0.405993           0.405801  \n",
       "Smoke_cig_currently                       0.063823           0.270560  \n",
       "Had_fights                                0.304187           0.338233  \n",
       "Bullied                                   0.410673           0.663481  \n",
       "Got_Seriously_injured                     0.316487           0.493641  \n",
       "No_close_friends                          1.000000           0.452515  \n",
       "Attempted_suicide                         0.452515           1.000000  "
      ]
     },
     "execution_count": 12,
     "metadata": {},
     "output_type": "execute_result"
    }
   ],
   "source": [
    "DatosSuicidiosRec = DatosSuicidio.drop(columns='Year').corr()\n",
    "DatosSuicidiosRec"
   ]
  },
  {
   "cell_type": "code",
   "execution_count": 13,
   "metadata": {
    "colab": {
     "base_uri": "https://localhost:8080/",
     "height": 607
    },
    "id": "z3w43J2xL8IZ",
    "outputId": "6a5e08d9-e6f4-471c-9509-6098de93d3b5"
   },
   "outputs": [
    {
     "data": {
      "image/png": "[encoded data removed]",
      "text/plain": [
       "<Figure size 1008x504 with 2 Axes>"
      ]
     },
     "metadata": {
      "needs_background": "light"
     },
     "output_type": "display_data"
    }
   ],
   "source": [
    "plt.figure(figsize=(14,7))\n",
    "MatrizInf = np.triu(DatosSuicidiosRec.corr())\n",
    "sns.heatmap(DatosSuicidiosRec.corr(), \n",
    "            cmap='RdBu_r', \n",
    "            annot=True, \n",
    "            mask=MatrizInf)\n",
    "plt.show()"
   ]
  }
 ],
 "metadata": {
  "colab": {
   "provenance": []
  },
  "kernelspec": {
   "display_name": "Python 3 (ipykernel)",
   "language": "python",
   "name": "python3"
  },
  "language_info": {
   "codemirror_mode": {
    "name": "ipython",
    "version": 3
   },
   "file_extension": ".py",
   "mimetype": "text/x-python",
   "name": "python",
   "nbconvert_exporter": "python",
   "pygments_lexer": "ipython3",
   "version": "3.9.12"
  }
 },
 "nbformat": 4,
 "nbformat_minor": 1
}
